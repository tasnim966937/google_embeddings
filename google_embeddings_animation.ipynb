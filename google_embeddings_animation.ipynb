{
 "cells": [
  {
   "cell_type": "code",
   "execution_count": null,
   "id": "a0890cee-9805-4e0c-b17d-165b525847d5",
   "metadata": {
    "scrolled": true
   },
   "outputs": [],
   "source": [
    "!conda install cartopy scipy -c conda-forge -y"
   ]
  },
  {
   "cell_type": "code",
   "execution_count": null,
   "id": "f3c00621-4e84-42ca-b843-a84a20eeb32c",
   "metadata": {},
   "outputs": [],
   "source": [
    "!conda install geemap -c conda-forge -y"
   ]
  },
  {
   "cell_type": "code",
   "execution_count": null,
   "id": "a6b7b254-9162-4ffd-a29d-0135ba6cdebd",
   "metadata": {},
   "outputs": [],
   "source": [
    "# Cell 1 — environment setup & Earth Engine auth\n",
    "import os\n",
    "import ee\n",
    "import geemap\n",
    "from geemap import cartoee\n",
    "import matplotlib.pyplot as plt\n",
    "\n",
    "ee.Authenticate()\n",
    "ee.Initialize()\n",
    "%pylab inline\n"
   ]
  },
  {
   "cell_type": "code",
   "execution_count": null,
   "id": "bfc2c57f-22b3-46ef-9acc-21d05d5a477e",
   "metadata": {},
   "outputs": [],
   "source": [
    "# Cell 2 — interactive map base\n",
    "Map = geemap.Map()\n",
    "Map\n"
   ]
  },
  {
   "cell_type": "code",
   "execution_count": null,
   "id": "50b5ced0-892f-49a5-9e61-4f3a5bad0998",
   "metadata": {},
   "outputs": [],
   "source": [
    "# Cell 3 — parameters & AOI\n",
    "lon, lat      = 90.478, 22.942\n",
    "start_year    = 2017\n",
    "end_year      = 2024\n",
    "point         = ee.Geometry.Point(lon, lat)\n",
    "years         = list(range(start_year, end_year + 1))  # Python list\n"
   ]
  },
  {
   "cell_type": "code",
   "execution_count": null,
   "id": "38bfe596-face-4a56-ad73-6b0d4c7819bf",
   "metadata": {},
   "outputs": [],
   "source": [
    "# Cell 4 — define region, viz bands & styling dicts\n",
    "# half-width & half-height\n",
    "w, h    = 0.6, 0.56\n",
    "\n",
    "# note: for your workflow you used [east, south, west, north]\n",
    "# but EE expects [west, south, east, north] here, so we flip:\n",
    "region  = [lon - w, lat - h, lon + w, lat + h]  \n",
    "\n",
    "# which embedding axes will map to R, G, B\n",
    "viz_bands = ['A01', 'A16', 'A09']\n",
    "\n",
    "# grid / north‐arrow / scale‐bar parameters\n",
    "north_arrow_dict = {\n",
    "    \"text\": \"N\", \"xy\": (0.1, 0.3), \"arrow_length\": 0.15,\n",
    "    \"text_color\": \"white\", \"arrow_color\": \"white\",\n",
    "    \"fontsize\": 20, \"width\": 5, \"headwidth\": 15,\n",
    "    \"ha\": \"center\", \"va\": \"center\"\n",
    "}\n",
    "scale_bar_dict = {\n",
    "    \"length\": 10, \"xy\": (0.1, 0.05), \"linewidth\": 3,\n",
    "    \"fontsize\": 20, \"color\": \"white\", \"unit\": \"km\",\n",
    "    \"ha\": \"center\", \"va\": \"bottom\"\n",
    "}\n"
   ]
  },
  {
   "cell_type": "code",
   "execution_count": null,
   "id": "41c20f5f-3bea-4a33-ad23-b0228c1a0de7",
   "metadata": {},
   "outputs": [],
   "source": [
    "# Cell 5 — function to pull & 2%–98% stretch each year + build collection\n",
    "def get_stretched_embedding(year):\n",
    "    # grab the first embedding image of that year\n",
    "    img = (ee.ImageCollection('GOOGLE/SATELLITE_EMBEDDING/V1/ANNUAL')\n",
    "             .filterBounds(point)\n",
    "             .filterDate(ee.Date.fromYMD(year, 1, 1),\n",
    "                         ee.Date.fromYMD(year,12,31))\n",
    "             .first())\n",
    "    # compute the 2nd & 98th percentile of each viz band over the region\n",
    "    stats = img.select(viz_bands).reduceRegion(\n",
    "        reducer    = ee.Reducer.percentile([2, 98]),\n",
    "        geometry   = ee.Geometry.Rectangle(region),\n",
    "        scale      = 30,\n",
    "        maxPixels  = 1e13,\n",
    "        bestEffort = True\n",
    "    )\n",
    "    mins = [stats.get(f\"{b}_p2\")  for b in viz_bands]\n",
    "    maxs = [stats.get(f\"{b}_p98\") for b in viz_bands]\n",
    "    # bake in the stretch and tag with year\n",
    "    return img.visualize(bands=viz_bands, min=mins, max=maxs) \\\n",
    "              .set('year', int(year))\n",
    "\n",
    "# build Python list + wrap into an EE collection\n",
    "images     = [get_stretched_embedding(y) for y in years]\n",
    "collection = ee.ImageCollection(images)\n",
    "\n",
    "# debug\n",
    "print(\"Years in collection:\", collection.aggregate_array('year').getInfo())\n"
   ]
  },
  {
   "cell_type": "code",
   "execution_count": null,
   "id": "1b1a27f2-bb34-4e47-8a22-6483f6ba9f51",
   "metadata": {},
   "outputs": [],
   "source": [
    "# Cell 6 — add the first frame to your interactive map\n",
    "first = ee.Image(collection.filter(ee.Filter.eq('year', years[0])).first())\n",
    "Map.setCenter(lon, lat, 10)\n",
    "Map.addLayer(first, {}, f'Embedding {years[0]} (2 % stretch)')\n",
    "Map\n"
   ]
  },
  {
   "cell_type": "code",
   "execution_count": null,
   "id": "10dec330-d719-420a-8965-2f5f9291a996",
   "metadata": {},
   "outputs": [],
   "source": [
    "# Cell 7 — static plot with grid, north‐arrow & scale‐bar\n",
    "stretched = ee.Image(collection.filter(ee.Filter.eq('year', years[0])).first())\n",
    "\n",
    "fig = plt.figure(figsize=(10, 10))\n",
    "ax  = cartoee.get_map(stretched, region=region)  # no vis_params needed\n",
    "\n",
    "cartoee.add_gridlines(ax, interval=[0.2, 0.2], linestyle=\":\")\n",
    "cartoee.add_north_arrow(ax, **north_arrow_dict)\n",
    "cartoee.add_scale_bar_lite(ax, **scale_bar_dict)\n",
    "\n",
    "ax.set_title(f\"Google Embedding axes {viz_bands} — {years[0]} (2 % stretch)\", fontsize=15)\n",
    "plt.show()\n"
   ]
  },
  {
   "cell_type": "code",
   "execution_count": null,
   "id": "fdde018f-d972-4443-afc0-553eb5c5f465",
   "metadata": {},
   "outputs": [],
   "source": [
    "# Cell 8 — Generate annotated PNG frames, shifted right by 0.1° longitude\n",
    "\n",
    "import os\n",
    "import matplotlib.pyplot as plt\n",
    "from geemap import cartoee\n",
    "import ee\n",
    "\n",
    "# Re-define key variables\n",
    "years = list(range(2017, 2025))\n",
    "lon, lat = 90.478, 22.942\n",
    "w, h = 0.6, 0.56\n",
    "# original bbox [west, south, east, north]\n",
    "region = [lon - w, lat - h, lon + w, lat + h]\n",
    "\n",
    "north_arrow_dict = {\n",
    "    \"text\": \"N\", \"xy\": (0.1, 0.3), \"arrow_length\": 0.15,\n",
    "    \"text_color\": \"white\", \"arrow_color\": \"white\",\n",
    "    \"fontsize\": 20, \"width\": 5, \"headwidth\": 15,\n",
    "    \"ha\": \"center\", \"va\": \"center\"\n",
    "}\n",
    "scale_bar_dict = {\n",
    "    \"length\": 10, \"xy\": (0.1, 0.05), \"linewidth\": 3,\n",
    "    \"fontsize\": 20, \"color\": \"white\", \"unit\": \"km\",\n",
    "    \"ha\": \"center\", \"va\": \"bottom\"\n",
    "}\n",
    "\n",
    "output_dir = os.path.expanduser(\"./Downloads\")\n",
    "os.makedirs(output_dir, exist_ok=True)\n",
    "print(\"Saving annotated frames to:\", output_dir)\n",
    "\n",
    "dx = 0.2  # degrees to shift right\n",
    "\n",
    "for year in years:\n",
    "    img = ee.Image(collection.filter(ee.Filter.eq('year', year)).first())\n",
    "    \n",
    "    # Shift the region right\n",
    "    region_shift = [region[0] + dx, region[1], region[2] + dx, region[3]]\n",
    "    \n",
    "    # Create a matplotlib figure\n",
    "    fig = plt.figure(figsize=(10, 8))\n",
    "    ax = cartoee.get_map(img, region=region_shift)\n",
    "    \n",
    "    # Add overlays\n",
    "    cartoee.add_gridlines(ax, interval=[0.2, 0.2], linestyle=\":\")\n",
    "    cartoee.add_north_arrow(ax, **north_arrow_dict)\n",
    "    cartoee.add_scale_bar_lite(ax, **scale_bar_dict)\n",
    "    \n",
    "    # Labels, title, and fix orientation\n",
    "    ax.set_xlabel(\"Longitude\")\n",
    "    ax.set_ylabel(\"Latitude\")\n",
    "    ax.set_title(f\"Embedding {year}\", fontsize=16)\n",
    "    #ax.invert_yaxis()\n",
    "    \n",
    "    # Save the annotated frame\n",
    "    out_path = os.path.join(output_dir, f\"frame_{year}.png\")\n",
    "    fig.savefig(out_path, dpi=300, bbox_inches=\"tight\")\n",
    "    plt.close(fig)\n",
    "    print(\"Saved:\", out_path)\n"
   ]
  },
  {
   "cell_type": "code",
   "execution_count": null,
   "id": "ef9fca69-701d-4c31-aecd-ccdebf3b74d5",
   "metadata": {},
   "outputs": [],
   "source": [
    "9 # Create GIF\n",
    "gif_path = os.path.join(annotated_dir, \"embedding_annotated_animation.gif\")\n",
    "png_to_gif(annotated_dir, gif_path, fps=2)\n",
    "print(\"GIF saved to:\", gif_path)\n",
    "display(Image(filename=gif_path))\n",
    "\n",
    "# Now also make an MP4\n",
    "!ffmpeg -y -i {gif_path} \\\n",
    "  -movflags faststart \\\n",
    "  -pix_fmt yuv420p \\\n",
    "  {gif_path.replace('.gif','.mp4')}\n",
    "\n",
    "# And preview it\n",
    "from IPython.display import Video\n",
    "Video(gif_path.replace('.gif','.mp4'), embed=True)\n"
   ]
  },
  {
   "cell_type": "code",
   "execution_count": null,
   "id": "5ee1bddb-ddb1-4609-89e7-70d6a6d695a2",
   "metadata": {},
   "outputs": [],
   "source": []
  }
 ],
 "metadata": {
  "kernelspec": {
   "display_name": "Python [conda env:emit]",
   "language": "python",
   "name": "conda-env-emit-py"
  },
  "language_info": {
   "codemirror_mode": {
    "name": "ipython",
    "version": 3
   },
   "file_extension": ".py",
   "mimetype": "text/x-python",
   "name": "python",
   "nbconvert_exporter": "python",
   "pygments_lexer": "ipython3",
   "version": "3.9.16"
  }
 },
 "nbformat": 4,
 "nbformat_minor": 5
}
